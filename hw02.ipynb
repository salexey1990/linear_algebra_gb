{
 "cells": [
  {
   "cell_type": "markdown",
   "metadata": {},
   "source": [
    "## hw 02"
   ]
  },
  {
   "cell_type": "code",
   "execution_count": 1,
   "metadata": {},
   "outputs": [],
   "source": [
    "import numpy as np"
   ]
  },
  {
   "cell_type": "code",
   "execution_count": 6,
   "metadata": {},
   "outputs": [
    {
     "name": "stdout",
     "output_type": "stream",
     "text": [
      "[[1 2]\n",
      " [3 4]\n",
      " [5 6]\n",
      " [7 8]]\n",
      "(4, 2)\n",
      "[[ 9 10]\n",
      " [11 12]\n",
      " [13 14]\n",
      " [15 16]]\n",
      "(4, 2)\n"
     ]
    },
    {
     "ename": "ValueError",
     "evalue": "shapes (4,2) and (4,2) not aligned: 2 (dim 1) != 4 (dim 0)",
     "output_type": "error",
     "traceback": [
      "\u001b[0;31m---------------------------------------------------------------------------\u001b[0m",
      "\u001b[0;31mValueError\u001b[0m                                Traceback (most recent call last)",
      "\u001b[0;32m<ipython-input-6-48d1adb4792f>\u001b[0m in \u001b[0;36m<module>\u001b[0;34m\u001b[0m\n\u001b[1;32m      5\u001b[0m \u001b[0mprint\u001b[0m\u001b[0;34m(\u001b[0m\u001b[0mB\u001b[0m\u001b[0;34m)\u001b[0m\u001b[0;34m\u001b[0m\u001b[0;34m\u001b[0m\u001b[0m\n\u001b[1;32m      6\u001b[0m \u001b[0mprint\u001b[0m\u001b[0;34m(\u001b[0m\u001b[0mB\u001b[0m\u001b[0;34m.\u001b[0m\u001b[0mshape\u001b[0m\u001b[0;34m)\u001b[0m\u001b[0;34m\u001b[0m\u001b[0;34m\u001b[0m\u001b[0m\n\u001b[0;32m----> 7\u001b[0;31m \u001b[0mprint\u001b[0m\u001b[0;34m(\u001b[0m\u001b[0mA\u001b[0m\u001b[0;34m.\u001b[0m\u001b[0mdot\u001b[0m\u001b[0;34m(\u001b[0m\u001b[0mB\u001b[0m\u001b[0;34m)\u001b[0m\u001b[0;34m)\u001b[0m\u001b[0;34m\u001b[0m\u001b[0;34m\u001b[0m\u001b[0m\n\u001b[0m",
      "\u001b[0;31mValueError\u001b[0m: shapes (4,2) and (4,2) not aligned: 2 (dim 1) != 4 (dim 0)"
     ]
    }
   ],
   "source": [
    "A = np.array([[1,2],[3,4],[5,6],[7,8]])\n",
    "B = np.array([[9,10],[11,12],[13,14],[15,16]])\n",
    "print(A)\n",
    "print(A.shape)\n",
    "print(B)\n",
    "print(B.shape)\n",
    "print(A.dot(B))"
   ]
  },
  {
   "cell_type": "code",
   "execution_count": 8,
   "metadata": {},
   "outputs": [
    {
     "name": "stdout",
     "output_type": "stream",
     "text": [
      "[[ 1  2  3  4  5]\n",
      " [ 6  7  8  9 10]]\n",
      "(2, 5)\n",
      "[[ 9 10 11]\n",
      " [11 12 13]\n",
      " [13 14 15]\n",
      " [15 16 17]\n",
      " [17 18 19]]\n",
      "(5, 3)\n",
      "[[215 230 245]\n",
      " [540 580 620]]\n",
      "(2, 3)\n"
     ]
    }
   ],
   "source": [
    "A = np.array([[1,2,3,4,5],[6,7,8,9,10]])\n",
    "B = np.array([[9,10,11],[11,12,13],[13,14,15],[15,16,17],[17,18,19]])\n",
    "print(A)\n",
    "print(A.shape)\n",
    "print(B)\n",
    "print(B.shape)\n",
    "print(A.dot(B))\n",
    "print((A.dot(B)).shape)"
   ]
  },
  {
   "cell_type": "code",
   "execution_count": 9,
   "metadata": {},
   "outputs": [
    {
     "name": "stdout",
     "output_type": "stream",
     "text": [
      "[[ 1  2  3]\n",
      " [ 4  5  6]\n",
      " [ 7  8  9]\n",
      " [10 11 12]\n",
      " [13 14 15]\n",
      " [16 17 18]\n",
      " [19 20 21]\n",
      " [22 23 24]]\n",
      "(8, 3)\n",
      "[[ 1  2  3  4  5  6  7  8]\n",
      " [ 9 10 11 12 13 14 15 16]\n",
      " [17 18 19 20 21 22 23 24]]\n",
      "(3, 8)\n",
      "[[  70   76   82   88   94  100  106  112]\n",
      " [ 151  166  181  196  211  226  241  256]\n",
      " [ 232  256  280  304  328  352  376  400]\n",
      " [ 313  346  379  412  445  478  511  544]\n",
      " [ 394  436  478  520  562  604  646  688]\n",
      " [ 475  526  577  628  679  730  781  832]\n",
      " [ 556  616  676  736  796  856  916  976]\n",
      " [ 637  706  775  844  913  982 1051 1120]]\n",
      "(8, 8)\n"
     ]
    }
   ],
   "source": [
    "A = np.array([[1,2,3],[4,5,6],[7,8,9],[10,11,12],[13,14,15],[16,17,18],[19,20,21],[22,23,24]])\n",
    "B = np.array([[1,2,3,4,5,6,7,8],[9,10,11,12,13,14,15,16],[17,18,19,20,21,22,23,24]])\n",
    "print(A)\n",
    "print(A.shape)\n",
    "print(B)\n",
    "print(B.shape)\n",
    "print(A.dot(B))\n",
    "print((A.dot(B)).shape)"
   ]
  },
  {
   "cell_type": "code",
   "execution_count": 10,
   "metadata": {},
   "outputs": [
    {
     "name": "stdout",
     "output_type": "stream",
     "text": [
      "[[1. 0. 0. 0.]\n",
      " [0. 1. 0. 0.]\n",
      " [0. 0. 1. 0.]\n",
      " [0. 0. 0. 1.]]\n",
      "(4, 4)\n",
      "[[1. 0. 0. 0.]\n",
      " [0. 1. 0. 0.]\n",
      " [0. 0. 1. 0.]\n",
      " [0. 0. 0. 1.]]\n",
      "(4, 4)\n",
      "[[1. 0. 0. 0.]\n",
      " [0. 1. 0. 0.]\n",
      " [0. 0. 1. 0.]\n",
      " [0. 0. 0. 1.]]\n",
      "(4, 4)\n"
     ]
    }
   ],
   "source": [
    "A = np.eye(4)\n",
    "B = np.eye(4)\n",
    "print(A)\n",
    "print(A.shape)\n",
    "print(B)\n",
    "print(B.shape)\n",
    "print(A.dot(B))\n",
    "print((A.dot(B)).shape)"
   ]
  },
  {
   "cell_type": "code",
   "execution_count": 11,
   "metadata": {},
   "outputs": [
    {
     "name": "stdout",
     "output_type": "stream",
     "text": [
      "[[ 1 -2]\n",
      " [ 3  0]]\n",
      "(2, 2)\n",
      "[[ 4 -1]\n",
      " [ 0  5]]\n",
      "(2, 2)\n",
      "[[  4 -11]\n",
      " [ 12  -3]]\n",
      "(2, 2)\n",
      "[[ 5 -3]\n",
      " [ 3  5]]\n",
      "(2, 2)\n"
     ]
    }
   ],
   "source": [
    "A = np.array([[1,-2],[3,0]])\n",
    "B = np.array([[4,-1],[0,5]])\n",
    "print(A)\n",
    "print(A.shape)\n",
    "print(B)\n",
    "print(B.shape)\n",
    "print(A.dot(B))\n",
    "print((A.dot(B)).shape)\n",
    "print(A + B)\n",
    "print((A + B).shape)"
   ]
  },
  {
   "cell_type": "code",
   "execution_count": 14,
   "metadata": {},
   "outputs": [
    {
     "data": {
      "text/plain": [
       "array([[ 11,  -5],\n",
       "       [  9, -12]])"
      ]
     },
     "execution_count": 14,
     "metadata": {},
     "output_type": "execute_result"
    }
   ],
   "source": [
    "A = np.array([[1,7],[3,-6]])\n",
    "B = np.array([[0,5],[2,-1]])\n",
    "C = np.array([[2,-4],[1,1]])\n",
    "3*A - 2*B + 4*C"
   ]
  },
  {
   "cell_type": "code",
   "execution_count": 15,
   "metadata": {},
   "outputs": [
    {
     "name": "stdout",
     "output_type": "stream",
     "text": [
      "[[17 18 11]\n",
      " [18 29  4]\n",
      " [11  4 13]]\n",
      "[[45  0]\n",
      " [ 0 14]]\n"
     ]
    }
   ],
   "source": [
    "A = np.array([[4,1],[5,-2],[2,3]])\n",
    "print(A.dot(A.T))\n",
    "print((A.T).dot(A))"
   ]
  },
  {
   "cell_type": "code",
   "execution_count": 16,
   "metadata": {},
   "outputs": [],
   "source": [
    "A = [[1,7],[3,-6]]\n",
    "B = [[0,5],[2,-1]]"
   ]
  },
  {
   "cell_type": "markdown",
   "metadata": {},
   "source": [
    "## методичка 4"
   ]
  },
  {
   "cell_type": "code",
   "execution_count": 17,
   "metadata": {},
   "outputs": [
    {
     "data": {
      "text/plain": [
       "180.0"
      ]
     },
     "execution_count": 17,
     "metadata": {},
     "output_type": "execute_result"
    }
   ],
   "source": [
    "A = np.array([[4,2,3],[0,5,1],[0,0,9]])\n",
    "np.linalg.det(A)"
   ]
  },
  {
   "cell_type": "code",
   "execution_count": 20,
   "metadata": {},
   "outputs": [
    {
     "data": {
      "text/plain": [
       "1.0"
      ]
     },
     "execution_count": 20,
     "metadata": {},
     "output_type": "execute_result"
    }
   ],
   "source": [
    "a=30\n",
    "A = np.array([[np.sin(a), -np.cos(a)],[np.cos(a), np.sin(a)]])\n",
    "np.linalg.det(A)"
   ]
  },
  {
   "cell_type": "code",
   "execution_count": 21,
   "metadata": {},
   "outputs": [
    {
     "data": {
      "text/plain": [
       "-9.51619735392994e-16"
      ]
     },
     "execution_count": 21,
     "metadata": {},
     "output_type": "execute_result"
    }
   ],
   "source": [
    "A = np.array([[1,2,3],[4,5,6],[7,8,9]])\n",
    "np.linalg.det(A)"
   ]
  },
  {
   "cell_type": "code",
   "execution_count": 22,
   "metadata": {},
   "outputs": [
    {
     "data": {
      "text/plain": [
       "0.0"
      ]
     },
     "execution_count": 22,
     "metadata": {},
     "output_type": "execute_result"
    }
   ],
   "source": [
    "A = np.array([[-2,7,-3],[4,-14,6],[-3,7,13]])\n",
    "np.linalg.det(A)"
   ]
  },
  {
   "cell_type": "code",
   "execution_count": 23,
   "metadata": {},
   "outputs": [
    {
     "data": {
      "text/plain": [
       "2"
      ]
     },
     "execution_count": 23,
     "metadata": {},
     "output_type": "execute_result"
    }
   ],
   "source": [
    "A = np.array([[1,2,3],[1,1,1],[2,3,4]])\n",
    "np.linalg.matrix_rank(A)"
   ]
  },
  {
   "cell_type": "code",
   "execution_count": 24,
   "metadata": {},
   "outputs": [
    {
     "data": {
      "text/plain": [
       "3"
      ]
     },
     "execution_count": 24,
     "metadata": {},
     "output_type": "execute_result"
    }
   ],
   "source": [
    "A = np.array([[0,0,2,1],[0,0,2,2],[0,0,4,3],[2,3,5,6]])\n",
    "np.linalg.matrix_rank(A)"
   ]
  },
  {
   "cell_type": "markdown",
   "metadata": {},
   "source": [
    "__2.__ Определитель матрицы $A$ равен $4$. Найти:\n",
    "\n",
    "   а) $det(A^{2})$ = 16 для квадратных матриц\n",
    "    \n",
    "   б) $det(A^{T})$ = 4\n",
    "    \n",
    "   в) $det(2A)$ = невозможно сказать, зависит от размена"
   ]
  },
  {
   "cell_type": "code",
   "execution_count": null,
   "metadata": {},
   "outputs": [],
   "source": []
  },
  {
   "cell_type": "code",
   "execution_count": null,
   "metadata": {},
   "outputs": [],
   "source": []
  }
 ],
 "metadata": {
  "kernelspec": {
   "display_name": "Python 3",
   "language": "python",
   "name": "python3"
  },
  "language_info": {
   "codemirror_mode": {
    "name": "ipython",
    "version": 3
   },
   "file_extension": ".py",
   "mimetype": "text/x-python",
   "name": "python",
   "nbconvert_exporter": "python",
   "pygments_lexer": "ipython3",
   "version": "3.7.3"
  }
 },
 "nbformat": 4,
 "nbformat_minor": 2
}
